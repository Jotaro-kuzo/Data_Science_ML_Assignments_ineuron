{
 "cells": [
  {
   "cell_type": "markdown",
   "id": "98f687b7",
   "metadata": {},
   "source": [
    "### 1. What does one mean by the term \"machine learning\"?\n",
    "\n",
    "The term Machine Learning means to make learn a machine, precisely, a Computer to do a tasks  by making system to learn with the external data that a human provides through coding/instructions which could be the outputs from certain statistical approaches and to create a model based on the outputs from those stats methods."
   ]
  },
  {
   "cell_type": "markdown",
   "id": "bb6f08f7",
   "metadata": {},
   "source": [
    "### 2.Can you think of 4 distinct types of issues where it shines?\n",
    "\n",
    "Machine learning is widely useful in many daily life things like using Google maps, to predict stock markets, For making decisions which critically impact business activity based upon the past events, to translate one language from another using google translator, recommender system on Online Shoppings, Online entertainment Platforms and so on"
   ]
  },
  {
   "cell_type": "markdown",
   "id": "3b786d52",
   "metadata": {},
   "source": [
    "### 3.What is a labeled training set, and how does it work?\n",
    "\n",
    "To train a model, the ultimate base is a source data. We divide that source data into three parts,Training set,Test set and Validation set. The training set is what we give as feed to model to learn the phenomenon, but before that we have to check if the data is labelled or not. Labelled training set, we could see the labels, which are the  values of the response variables. This labelling helps to developer to do feature engineering so that one could say which features are important and which are not so we could remove the unnecessary data, which finally gives its results at making good at model predictions.\n"
   ]
  },
  {
   "cell_type": "markdown",
   "id": "328ee8f3",
   "metadata": {},
   "source": [
    "### 4.What are the two most important tasks that are supervised?\n",
    "\n",
    "In supervised ML models, we get two important divisions, called REGRESSION and  CLASSIFICATION. Regression can be say as to predict the values based upon the past data, and Classification can be say as to Classify into groups/segments from the given dataset."
   ]
  },
  {
   "cell_type": "markdown",
   "id": "f72828ad",
   "metadata": {},
   "source": [
    "### 5.Can you think of four examples of unsupervised tasks?\n",
    "\n",
    "Four common unsupervised tasks are data clustering, visualization, dimensionality reduction , and association rule learning."
   ]
  },
  {
   "cell_type": "markdown",
   "id": "9726e9b4",
   "metadata": {},
   "source": [
    "### 6.State the machine learning model that would be best to make a robot walk through various\n",
    "unfamiliar terrains?\n",
    "\n",
    "The best Machine Learning algorithm to allow a robot to walk in unknown terrain is Reinforced Learning (DEEP LEARNING), where the robot can learn from response of the terrain to optimize itself."
   ]
  },
  {
   "cell_type": "markdown",
   "id": "c1366095",
   "metadata": {},
   "source": [
    "### 7.Which algorithm will you use to divide your customers into different groups?\n",
    "\n",
    "It may be depends upon the tupe of data. If the data is labelled well, we could use Supervised learning like classifying, else we have to depend upon the unsupervised learning like Clustering."
   ]
  },
  {
   "cell_type": "markdown",
   "id": "d9d7cd87",
   "metadata": {},
   "source": [
    "### 8.Will you consider the problem of spam detection to be a supervised or unsupervised learning problem?\n",
    "\n",
    "Spam is generally used for labelled data. So it would comes under Supervised Learning."
   ]
  },
  {
   "cell_type": "markdown",
   "id": "de1503ad",
   "metadata": {},
   "source": [
    "### 9.What is the concept of an online learning system?\n",
    "\n",
    "In Online Learning, you can train the system incrementally by feeding it data instances sequentially, either individually or in mini-batches.The system can learn about new data so faster.\n",
    "This system can be a good option for continuous flow of data and to adapt to change faster."
   ]
  },
  {
   "cell_type": "markdown",
   "id": "6e4065de",
   "metadata": {},
   "source": [
    "### 10.What is out-of-core learning, and how does it differ from core learning?\n",
    "\n",
    "As mentioned above, the ONLINE LEARNING algorithms can be used to train system that contains hige data that cannot fit on one machine's main memory.This is called Out-of-core Learning.\n",
    "In this system, the algorithm takes a part of data, runs the training on that data and this repeats until all the data striked down.\n",
    "\n",
    "One of the important thing to keep in mind is Out-of-core learning is usually done offline even though we use Online learning algorithms."
   ]
  },
  {
   "cell_type": "markdown",
   "id": "1a711c8f",
   "metadata": {},
   "source": [
    "### 11.What kind of learning algorithm makes predictions using a similarity measure?\n",
    "\n",
    "Learning algorithm that relies on a similarity measure to make predictions is Instance-based algorithm, which simply called to learn by heart."
   ]
  },
  {
   "cell_type": "markdown",
   "id": "e43ad859",
   "metadata": {},
   "source": [
    "### 12.What's the difference between a model parameter and a hyperparameter in a learning algorithm?\n",
    "Model parameter determines how a model will predict given a new instance; model usually has more than one parameter (slope of a linear model). Hyperparameter is a parameter for the learning algorithm(number of epoches), not of a model."
   ]
  },
  {
   "cell_type": "markdown",
   "id": "7de7ef7e",
   "metadata": {},
   "source": [
    "### 13.What are the criteria that model-based learning algorithms look for? What is the most popular method they use to achieve success? What method do they use to make predictions?\n",
    "\n",
    "Model based learning algorithm search for the optimal value of parameters in a model that will give the best results for the new instances. We often use a cost function or similar to determine what the parameter value has to be in order to minimize the function. The model makes prediction by using the value of the new instance and the parameters in its function."
   ]
  },
  {
   "cell_type": "markdown",
   "id": "c2829827",
   "metadata": {},
   "source": [
    "### 14.Can you name four of the most important Machine Learning challenges?\n",
    "\n",
    "Four main challenges in Machine Learning include overfitting the data, underfitting the data, lack of data and non representative data."
   ]
  },
  {
   "cell_type": "markdown",
   "id": "82454bf8",
   "metadata": {},
   "source": [
    "### 15.What happens if the model performs well on the training data but fails to generalize the results\n",
    "to new situations? Can you think of three different options?\n",
    "\n",
    "If the model performs poorly to new instances, then it has overfit on the training data. To solve this, we can do any of the following three:\n",
    "    1.Get more data\n",
    "    2. By implementing a simpler model\n",
    "    3.By eliminating outliers or noise from the existing data set."
   ]
  },
  {
   "cell_type": "markdown",
   "id": "0915004f",
   "metadata": {},
   "source": [
    "### 16.What exactly is a test set, and why would you need one?\n",
    "\n",
    "Test dataset is a set which is used to test a model to see how it performs. Test set is necessary so that you can determine the metrices of model performs."
   ]
  },
  {
   "cell_type": "markdown",
   "id": "38c2e58b",
   "metadata": {},
   "source": [
    "### 17.What is a validation set's purpose?\n",
    "\n",
    "Validation set is used to find the best fitting model for a given dataset and problem from various developed models."
   ]
  },
  {
   "cell_type": "markdown",
   "id": "db4b0fb7",
   "metadata": {},
   "source": [
    "### 18.What precisely is the train-dev kit, when will you need it, how do you put it to use?\n",
    "\n",
    "The train-dev kit is used to tune the Hyper parameters of a model. This can be used to pick the best model by ranking different developed models on basis of accurancy. "
   ]
  },
  {
   "cell_type": "markdown",
   "id": "2f9b2bb4",
   "metadata": {},
   "source": [
    "### 19.What could go wrong if you use the test set to tune hyperparameters?\n",
    "\n",
    "If you tune hyperparameters using the test sets, then it may not perform well on the out-of-sample data because the model is tuned just for that given specific set."
   ]
  },
  {
   "cell_type": "code",
   "execution_count": null,
   "id": "3482fc49",
   "metadata": {},
   "outputs": [],
   "source": []
  }
 ],
 "metadata": {
  "kernelspec": {
   "display_name": "Python 3 (ipykernel)",
   "language": "python",
   "name": "python3"
  },
  "language_info": {
   "codemirror_mode": {
    "name": "ipython",
    "version": 3
   },
   "file_extension": ".py",
   "mimetype": "text/x-python",
   "name": "python",
   "nbconvert_exporter": "python",
   "pygments_lexer": "ipython3",
   "version": "3.9.12"
  }
 },
 "nbformat": 4,
 "nbformat_minor": 5
}
